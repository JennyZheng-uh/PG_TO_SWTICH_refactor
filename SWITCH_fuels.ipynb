{
 "cells": [
  {
   "cell_type": "markdown",
   "id": "f6244b18",
   "metadata": {},
   "source": [
    "# fuels"
   ]
  },
  {
   "cell_type": "code",
   "execution_count": 1,
   "id": "797e5578",
   "metadata": {},
   "outputs": [],
   "source": [
    "'''\n",
    "Import based on imports found in the notebooks located here:\n",
    "Schivley Greg, PowerGenome, (2022), GitHub repository, \n",
    "    https://github.com/PowerGenome/PowerGenome/tree/master/notebooks\n",
    "'''\n",
    "\n",
    "import pandas as pd\n",
    "import numpy as np\n",
    "\n",
    "###\n",
    "# module issue\n",
    "import os\n",
    "import sys\n",
    "module_path = os.path.abspath(os.getcwd() + '\\\\..')\n",
    "if module_path not in sys.path:\n",
    "    sys.path.append(module_path)\n",
    "###\n",
    "# from pathlib import Path\n",
    "# from powergenome.util import (\n",
    "#     build_scenario_settings,\n",
    "#     init_pudl_connection,\n",
    "#     load_settings,\n",
    "#     check_settings\n",
    "# )"
   ]
  },
  {
   "cell_type": "code",
   "execution_count": 2,
   "id": "df90233c",
   "metadata": {},
   "outputs": [],
   "source": [
    "# read in csv outputs from PG\n",
    "#existing_gen = pd.read_csv('PG_output_csv/existing_gen_WECC.csv', index_col=0)\n",
    "#new_gen = pd.read_csv('PG_output_csv/new_gen_WECC.csv', index_col=0)\n",
    "#existing_variability = pd.read_csv('PG_output_csv/existing_variability_WECC.csv', index_col=0)\n",
    "#potential_build_yr = pd.read_csv('PG_output_csv/gc_units_model_WECC.csv', index_col=0)\n",
    "all_gen = pd.read_csv('PG_output_csv/all_gen_WECC.csv', index_col=0)\n",
    "# fuels = pd.read_csv('PG_output_csv/fuels_WECC.csv', index_col=0)\n",
    "fuel_prices = pd.read_csv('PG_output_csv/fuel_prices_WECC.csv', index_col=0)\n",
    "#load_curves = pd.read_csv('PG_output_csv/load_curves_WECC.csv', index_col=0)"
   ]
  },
  {
   "cell_type": "code",
   "execution_count": 3,
   "id": "4dc775cc",
   "metadata": {},
   "outputs": [],
   "source": [
    "# co2_intensity based on scenario 178\n",
    "REAM_co2_intensity = {'coal':0.09552, 'distillate': 0.07315, 'naturalgas':0.05306, 'uranium':0}"
   ]
  },
  {
   "cell_type": "code",
   "execution_count": 7,
   "id": "506847e8",
   "metadata": {},
   "outputs": [],
   "source": [
    "def fuels(fuel_prices, REAM_co2_intensity):\n",
    "    '''\n",
    "    Create fuels table using fuel_prices (from gc.fuel_prices) and basing other columns on REAM scenario 178\n",
    "    Output columns\n",
    "        * fuel: based on the fuels contained in the PowerGenome fuel_prices table\n",
    "        * co2_intensity: based on REAM scenario 178\n",
    "        * upstream_co2_intensity: based on REAM scenario 178\n",
    "    '''\n",
    "    fuels = pd.DataFrame(fuel_prices['fuel'].unique(),columns=['fuel'])\n",
    "    fuels['co2_intensity'] = fuels['fuel'].apply(lambda x: REAM_co2_intensity[x])\n",
    "    fuels['upstream_co2_intensity'] = 0 # based on REAM scenario 178\n",
    "    # switch error - capitalize to align with gen pro info energy_source?\n",
    "    fuels['fuel'] = fuels['fuel'].str.capitalize() \n",
    "    return fuels"
   ]
  },
  {
   "cell_type": "code",
   "execution_count": 10,
   "id": "27c39369",
   "metadata": {},
   "outputs": [
    {
     "data": {
      "text/html": [
       "<div>\n",
       "<style scoped>\n",
       "    .dataframe tbody tr th:only-of-type {\n",
       "        vertical-align: middle;\n",
       "    }\n",
       "\n",
       "    .dataframe tbody tr th {\n",
       "        vertical-align: top;\n",
       "    }\n",
       "\n",
       "    .dataframe thead th {\n",
       "        text-align: right;\n",
       "    }\n",
       "</style>\n",
       "<table border=\"1\" class=\"dataframe\">\n",
       "  <thead>\n",
       "    <tr style=\"text-align: right;\">\n",
       "      <th></th>\n",
       "      <th>fuel</th>\n",
       "      <th>co2_intensity</th>\n",
       "      <th>upstream_co2_intensity</th>\n",
       "    </tr>\n",
       "  </thead>\n",
       "  <tbody>\n",
       "    <tr>\n",
       "      <th>0</th>\n",
       "      <td>Coal</td>\n",
       "      <td>0.09552</td>\n",
       "      <td>0</td>\n",
       "    </tr>\n",
       "    <tr>\n",
       "      <th>1</th>\n",
       "      <td>Naturalgas</td>\n",
       "      <td>0.05306</td>\n",
       "      <td>0</td>\n",
       "    </tr>\n",
       "    <tr>\n",
       "      <th>2</th>\n",
       "      <td>Distillate</td>\n",
       "      <td>0.07315</td>\n",
       "      <td>0</td>\n",
       "    </tr>\n",
       "    <tr>\n",
       "      <th>3</th>\n",
       "      <td>Uranium</td>\n",
       "      <td>0.00000</td>\n",
       "      <td>0</td>\n",
       "    </tr>\n",
       "    <tr>\n",
       "      <th>4</th>\n",
       "      <td>Fuel</td>\n",
       "      <td>0.00000</td>\n",
       "      <td>0</td>\n",
       "    </tr>\n",
       "  </tbody>\n",
       "</table>\n",
       "</div>"
      ],
      "text/plain": [
       "         fuel  co2_intensity  upstream_co2_intensity\n",
       "0        Coal        0.09552                       0\n",
       "1  Naturalgas        0.05306                       0\n",
       "2  Distillate        0.07315                       0\n",
       "3     Uranium        0.00000                       0\n",
       "4        Fuel        0.00000                       0"
      ]
     },
     "execution_count": 10,
     "metadata": {},
     "output_type": "execute_result"
    }
   ],
   "source": [
    "fuels_table = fuels(fuel_prices, REAM_co2_intensity)\n",
    "fuels_table.loc[len(fuels_table.index)] = ['Fuel', 0, 0] # adding in a dummy fuel for regional_fuel_market\n",
    "fuels_table"
   ]
  },
  {
   "cell_type": "code",
   "execution_count": 11,
   "id": "4a662265",
   "metadata": {},
   "outputs": [],
   "source": [
    "fuels_table.to_csv(r'SWITCH_Inputs\\fuels.csv', index = False)"
   ]
  }
 ],
 "metadata": {
  "kernelspec": {
   "display_name": "Python [conda env:powergenome] *",
   "language": "python",
   "name": "conda-env-powergenome-py"
  },
  "language_info": {
   "codemirror_mode": {
    "name": "ipython",
    "version": 3
   },
   "file_extension": ".py",
   "mimetype": "text/x-python",
   "name": "python",
   "nbconvert_exporter": "python",
   "pygments_lexer": "ipython3",
   "version": "3.9.10"
  }
 },
 "nbformat": 4,
 "nbformat_minor": 5
}
