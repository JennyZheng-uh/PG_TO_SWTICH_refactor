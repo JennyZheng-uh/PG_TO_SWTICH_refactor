{
 "cells": [
  {
   "cell_type": "markdown",
   "id": "b505f90a",
   "metadata": {},
   "source": [
    "# Create tables that have minimal PowerGenome data\n",
    "* carbon_policies\n",
    "* financials\n",
    "* periods"
   ]
  },
  {
   "cell_type": "code",
   "execution_count": 1,
   "id": "36a41bd1",
   "metadata": {},
   "outputs": [],
   "source": [
    "'''\n",
    "Import based on imports found in the notebooks located here:\n",
    "Schivley Greg, PowerGenome, (2022), GitHub repository, \n",
    "    https://github.com/PowerGenome/PowerGenome/tree/master/notebooks\n",
    "'''\n",
    "\n",
    "###\n",
    "# module issue\n",
    "import os\n",
    "import sys\n",
    "module_path = os.path.abspath(os.getcwd() + '\\\\..')\n",
    "if module_path not in sys.path:\n",
    "    sys.path.append(module_path)\n",
    "###\n",
    "\n",
    "import pandas as pd\n",
    "import numpy as np\n",
    "\n",
    "from powergenome.util import (\n",
    "    build_scenario_settings,\n",
    "    init_pudl_connection,\n",
    "    load_settings,\n",
    "    check_settings\n",
    ")\n",
    "from pathlib import Path\n",
    "\n",
    "import ast\n",
    "import itertools\n",
    "from statistics import mode"
   ]
  },
  {
   "cell_type": "code",
   "execution_count": 2,
   "id": "9d82e904",
   "metadata": {},
   "outputs": [],
   "source": [
    "'''\n",
    "Import based on imports found in the notebooks located here:\n",
    "Schivley Greg, PowerGenome, (2022), GitHub repository, \n",
    "    https://github.com/PowerGenome/PowerGenome/tree/master/notebooks\n",
    "'''\n",
    "\n",
    "cwd = Path.cwd()\n",
    "\n",
    "settings_path = (\n",
    "    cwd / \"settings_TD.yml\" \n",
    ")\n",
    "settings = load_settings(settings_path)\n",
    "settings[\"input_folder\"] = settings_path.parent / settings[\"input_folder\"]\n",
    "scenario_definitions = pd.read_csv(\n",
    "    settings[\"input_folder\"] / settings[\"scenario_definitions_fn\"]\n",
    ")\n",
    "scenario_settings = build_scenario_settings(settings, scenario_definitions)\n",
    "\n",
    "pudl_engine, pudl_out, pg_engine = init_pudl_connection(\n",
    "    freq=\"AS\",\n",
    "    start_year=min(settings.get(\"data_years\")),\n",
    "    end_year=max(settings.get(\"data_years\")),\n",
    ")\n",
    "\n",
    "# check_settings(settings, pg_engine)"
   ]
  },
  {
   "cell_type": "markdown",
   "id": "f7b8f46c",
   "metadata": {},
   "source": [
    "# carbon_policies"
   ]
  },
  {
   "cell_type": "code",
   "execution_count": 3,
   "id": "0831fd47",
   "metadata": {},
   "outputs": [
    {
     "data": {
      "text/html": [
       "<div>\n",
       "<style scoped>\n",
       "    .dataframe tbody tr th:only-of-type {\n",
       "        vertical-align: middle;\n",
       "    }\n",
       "\n",
       "    .dataframe tbody tr th {\n",
       "        vertical-align: top;\n",
       "    }\n",
       "\n",
       "    .dataframe thead th {\n",
       "        text-align: right;\n",
       "    }\n",
       "</style>\n",
       "<table border=\"1\" class=\"dataframe\">\n",
       "  <thead>\n",
       "    <tr style=\"text-align: right;\">\n",
       "      <th></th>\n",
       "      <th>period</th>\n",
       "      <th>carbon_cap_tco2_per_yr</th>\n",
       "      <th>carbon_cap_tco2_per_yr_CA</th>\n",
       "      <th>carbon_cost_dollar_per_tco2</th>\n",
       "    </tr>\n",
       "  </thead>\n",
       "  <tbody>\n",
       "    <tr>\n",
       "      <th>0</th>\n",
       "      <td>2020</td>\n",
       "      <td>222591761.6</td>\n",
       "      <td>57699000</td>\n",
       "      <td>.</td>\n",
       "    </tr>\n",
       "    <tr>\n",
       "      <th>1</th>\n",
       "      <td>2030</td>\n",
       "      <td>149423302.5</td>\n",
       "      <td>36292500</td>\n",
       "      <td>.</td>\n",
       "    </tr>\n",
       "    <tr>\n",
       "      <th>2</th>\n",
       "      <td>2040</td>\n",
       "      <td>76328672.3</td>\n",
       "      <td>11400000</td>\n",
       "      <td>.</td>\n",
       "    </tr>\n",
       "    <tr>\n",
       "      <th>3</th>\n",
       "      <td>2050</td>\n",
       "      <td>0.0</td>\n",
       "      <td>0</td>\n",
       "      <td>.</td>\n",
       "    </tr>\n",
       "  </tbody>\n",
       "</table>\n",
       "</div>"
      ],
      "text/plain": [
       "   period  carbon_cap_tco2_per_yr  carbon_cap_tco2_per_yr_CA  \\\n",
       "0    2020             222591761.6                   57699000   \n",
       "1    2030             149423302.5                   36292500   \n",
       "2    2040              76328672.3                   11400000   \n",
       "3    2050                     0.0                          0   \n",
       "\n",
       "  carbon_cost_dollar_per_tco2  \n",
       "0                           .  \n",
       "1                           .  \n",
       "2                           .  \n",
       "3                           .  "
      ]
     },
     "execution_count": 3,
     "metadata": {},
     "output_type": "execute_result"
    }
   ],
   "source": [
    "# Based on REAM\n",
    "carbon_policies_data = {'period':[2020, 2030, 2040, 2050], 'carbon_cap_tco2_per_yr':[222591761.6,\n",
    "                        149423302.5, 76328672.3, 0], 'carbon_cap_tco2_per_yr_CA':[57699000, 36292500, 11400000, 0],\n",
    "                       'carbon_cost_dollar_per_tco2':['.','.','.','.']}\n",
    "carbon_policies_table = pd.DataFrame(carbon_policies_data)\n",
    "carbon_policies_table"
   ]
  },
  {
   "cell_type": "markdown",
   "id": "e4e410bc",
   "metadata": {},
   "source": [
    "# financials"
   ]
  },
  {
   "cell_type": "code",
   "execution_count": 4,
   "id": "6c2bda3f",
   "metadata": {},
   "outputs": [
    {
     "data": {
      "text/html": [
       "<div>\n",
       "<style scoped>\n",
       "    .dataframe tbody tr th:only-of-type {\n",
       "        vertical-align: middle;\n",
       "    }\n",
       "\n",
       "    .dataframe tbody tr th {\n",
       "        vertical-align: top;\n",
       "    }\n",
       "\n",
       "    .dataframe thead th {\n",
       "        text-align: right;\n",
       "    }\n",
       "</style>\n",
       "<table border=\"1\" class=\"dataframe\">\n",
       "  <thead>\n",
       "    <tr style=\"text-align: right;\">\n",
       "      <th></th>\n",
       "      <th>base_financial_year</th>\n",
       "      <th>interest_rate</th>\n",
       "      <th>discount_rate</th>\n",
       "    </tr>\n",
       "  </thead>\n",
       "  <tbody>\n",
       "    <tr>\n",
       "      <th>0</th>\n",
       "      <td>2021</td>\n",
       "      <td>0.05</td>\n",
       "      <td>0.05</td>\n",
       "    </tr>\n",
       "  </tbody>\n",
       "</table>\n",
       "</div>"
      ],
      "text/plain": [
       "   base_financial_year  interest_rate  discount_rate\n",
       "0                 2021           0.05           0.05"
      ]
     },
     "execution_count": 4,
     "metadata": {},
     "output_type": "execute_result"
    }
   ],
   "source": [
    "atb_data_year = settings.get('atb_data_year')\n",
    "# interest and discount based on REAM\n",
    "financials_data = {'base_financial_year':atb_data_year, 'interest_rate': 0.05, 'discount_rate':0.05}\n",
    "financials_table = pd.DataFrame(financials_data, index=[0])\n",
    "financials_table"
   ]
  },
  {
   "cell_type": "markdown",
   "id": "b5986a44",
   "metadata": {},
   "source": [
    "# periods"
   ]
  },
  {
   "cell_type": "code",
   "execution_count": 5,
   "id": "0baf5c7e",
   "metadata": {},
   "outputs": [
    {
     "data": {
      "text/html": [
       "<div>\n",
       "<style scoped>\n",
       "    .dataframe tbody tr th:only-of-type {\n",
       "        vertical-align: middle;\n",
       "    }\n",
       "\n",
       "    .dataframe tbody tr th {\n",
       "        vertical-align: top;\n",
       "    }\n",
       "\n",
       "    .dataframe thead th {\n",
       "        text-align: right;\n",
       "    }\n",
       "</style>\n",
       "<table border=\"1\" class=\"dataframe\">\n",
       "  <thead>\n",
       "    <tr style=\"text-align: right;\">\n",
       "      <th></th>\n",
       "      <th>INVESTMENT_PERIOD</th>\n",
       "      <th>period_start</th>\n",
       "      <th>period_end</th>\n",
       "    </tr>\n",
       "  </thead>\n",
       "  <tbody>\n",
       "    <tr>\n",
       "      <th>0</th>\n",
       "      <td>2020</td>\n",
       "      <td>2016</td>\n",
       "      <td>2025</td>\n",
       "    </tr>\n",
       "    <tr>\n",
       "      <th>1</th>\n",
       "      <td>2030</td>\n",
       "      <td>2026</td>\n",
       "      <td>2035</td>\n",
       "    </tr>\n",
       "    <tr>\n",
       "      <th>2</th>\n",
       "      <td>2040</td>\n",
       "      <td>2036</td>\n",
       "      <td>2045</td>\n",
       "    </tr>\n",
       "    <tr>\n",
       "      <th>3</th>\n",
       "      <td>2050</td>\n",
       "      <td>2046</td>\n",
       "      <td>2055</td>\n",
       "    </tr>\n",
       "  </tbody>\n",
       "</table>\n",
       "</div>"
      ],
      "text/plain": [
       "   INVESTMENT_PERIOD  period_start  period_end\n",
       "0               2020          2016        2025\n",
       "1               2030          2026        2035\n",
       "2               2040          2036        2045\n",
       "3               2050          2046        2055"
      ]
     },
     "execution_count": 5,
     "metadata": {},
     "output_type": "execute_result"
    }
   ],
   "source": [
    "# based on REAM\n",
    "periods_data = {'INVESTMENT_PERIOD':[2020,2030,2040,2050], 'period_start':[2016,2026,2036,2046],\n",
    "               'period_end':[2025,2035,2045,2055]}\n",
    "periods_table = pd.DataFrame(periods_data)\n",
    "periods_table"
   ]
  },
  {
   "cell_type": "markdown",
   "id": "d599d10b",
   "metadata": {},
   "source": [
    "# Export as CSV files"
   ]
  },
  {
   "cell_type": "code",
   "execution_count": 6,
   "id": "bf2786ae",
   "metadata": {},
   "outputs": [],
   "source": [
    "carbon_policies_table.to_csv(r'SWITCH_Inputs\\carbon_policies.csv', index = False)\n",
    "financials_table.to_csv(r'SWITCH_Inputs\\financials.csv', index = False)\n",
    "periods_table.to_csv(r'SWITCH_Inputs\\periods.csv', index = False)"
   ]
  }
 ],
 "metadata": {
  "kernelspec": {
   "display_name": "Python [conda env:powergenome] *",
   "language": "python",
   "name": "conda-env-powergenome-py"
  },
  "language_info": {
   "codemirror_mode": {
    "name": "ipython",
    "version": 3
   },
   "file_extension": ".py",
   "mimetype": "text/x-python",
   "name": "python",
   "nbconvert_exporter": "python",
   "pygments_lexer": "ipython3",
   "version": "3.9.10"
  }
 },
 "nbformat": 4,
 "nbformat_minor": 5
}
